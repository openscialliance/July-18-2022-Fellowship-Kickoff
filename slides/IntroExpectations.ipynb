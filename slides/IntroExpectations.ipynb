{
 "cells": [
  {
   "cell_type": "markdown",
   "id": "5e49d14a",
   "metadata": {
    "slideshow": {
     "slide_type": "slide"
    }
   },
   "source": [
    "# Open Science Fellowships\n",
    "\n",
    "## Kickoff Event"
   ]
  },
  {
   "cell_type": "markdown",
   "id": "65f8fbbb",
   "metadata": {},
   "source": [
    "<img src=\"images/OSA Logo-Horizontal-Full Color.png\" width=\"50%\" align=\"left\">"
   ]
  },
  {
   "cell_type": "markdown",
   "id": "436a353a",
   "metadata": {},
   "source": [
    "Slides: https://openscialliance.github.io/July-18-2022-Fellowship-Kickoff"
   ]
  },
  {
   "cell_type": "markdown",
   "id": "55034847",
   "metadata": {
    "slideshow": {
     "slide_type": "slide"
    }
   },
   "source": [
    "## Open Science"
   ]
  },
  {
   "cell_type": "markdown",
   "id": "082e7f73",
   "metadata": {
    "slideshow": {
     "slide_type": "fragment"
    }
   },
   "source": [
    "What is **Open Science**?"
   ]
  },
  {
   "cell_type": "markdown",
   "id": "2884ae9f",
   "metadata": {
    "slideshow": {
     "slide_type": "slide"
    }
   },
   "source": [
    "<img src=\"images/os_building_blocks.jpg\" width=\"75%\" />\n",
    "\n",
    "https://www.fosteropenscience.eu/sites/default/files/images/OpenScienceBuildingBlocks.JPG"
   ]
  },
  {
   "cell_type": "markdown",
   "id": "bb9354c3",
   "metadata": {
    "slideshow": {
     "slide_type": "slide"
    }
   },
   "source": [
    "<img src=\"images/osf_diagram.png\" width=\"75%\" />\n",
    "\n",
    "https://www.library.cmu.edu/sites/drupal-live.library.cmu.edu/files/2018.05.16_osf_diagram.png"
   ]
  },
  {
   "cell_type": "markdown",
   "id": "b7110cae",
   "metadata": {
    "slideshow": {
     "slide_type": "slide"
    }
   },
   "source": [
    "Simply put, Open Science is the movement to make all scientific data, methods, and materials accessible to all levels of society."
   ]
  },
  {
   "cell_type": "markdown",
   "id": "e2b81d7f",
   "metadata": {
    "slideshow": {
     "slide_type": "slide"
    }
   },
   "source": [
    "The Open Science Alliance is a group of interested people and organizations committed to integrating Open Science principles and practices into graduate education."
   ]
  },
  {
   "cell_type": "markdown",
   "id": "440d07f4",
   "metadata": {
    "slideshow": {
     "slide_type": "fragment"
    }
   },
   "source": [
    "<img src=\"images/team.png\" width=\"60%\" />"
   ]
  },
  {
   "cell_type": "markdown",
   "id": "2521863c",
   "metadata": {
    "slideshow": {
     "slide_type": "slide"
    }
   },
   "source": [
    "<img src=\"images/partners.png\" width=\"75%\" />"
   ]
  },
  {
   "cell_type": "markdown",
   "id": "763cfa25",
   "metadata": {
    "slideshow": {
     "slide_type": "fragment"
    }
   },
   "source": [
    "We'll have more details of their respective involvement soon!"
   ]
  },
  {
   "cell_type": "markdown",
   "id": "9db5ae7d",
   "metadata": {
    "slideshow": {
     "slide_type": "slide"
    }
   },
   "source": [
    "## Open Science Fellows"
   ]
  },
  {
   "cell_type": "markdown",
   "id": "c5daee0b",
   "metadata": {
    "slideshow": {
     "slide_type": "fragment"
    }
   },
   "source": [
    "(psst: that's you)"
   ]
  },
  {
   "cell_type": "markdown",
   "id": "3d8cff5b",
   "metadata": {
    "slideshow": {
     "slide_type": "fragment"
    }
   },
   "source": [
    "**Our vision** is for the fellows to be **advocates of Open Science**."
   ]
  },
  {
   "cell_type": "markdown",
   "id": "2cffaa08",
   "metadata": {
    "slideshow": {
     "slide_type": "fragment"
    }
   },
   "source": [
    "By far, the biggest impediment to the adoption of Open Science principles and practices in academia is **misalignment of incentives**: practicing Open Science is not rewarded (think: promotions, awards, raises, recognition). For the academic culture to shift, we need **advocates**!"
   ]
  },
  {
   "cell_type": "markdown",
   "id": "34c8ea3e",
   "metadata": {
    "slideshow": {
     "slide_type": "notes"
    }
   },
   "source": [
    "Advocates: not only experts in Open Science, but also communicators--people who can identify the barriers to adopting Open Science tools and techniques, and suggest steps to ameliorate those barriers. Evangelizers of Open Science!"
   ]
  },
  {
   "cell_type": "markdown",
   "id": "050bdab9",
   "metadata": {
    "slideshow": {
     "slide_type": "slide"
    }
   },
   "source": [
    "## Open Science Fellows"
   ]
  },
  {
   "cell_type": "markdown",
   "id": "46ebe4c8",
   "metadata": {},
   "source": [
    "**How?**"
   ]
  },
  {
   "cell_type": "markdown",
   "id": "fcf33e58",
   "metadata": {
    "slideshow": {
     "slide_type": "fragment"
    }
   },
   "source": [
    "### Program"
   ]
  },
  {
   "cell_type": "markdown",
   "id": "7abb63aa",
   "metadata": {
    "slideshow": {
     "slide_type": "-"
    }
   },
   "source": [
    "During 1 academic year (2022-2023), you will participate in a series of workshops, exercises, and one-on-ones. These will train you both in Open Science principles and practices, as well as establish a regular dialogue for us to learn from you!"
   ]
  },
  {
   "cell_type": "markdown",
   "id": "f79ea1e6",
   "metadata": {},
   "source": [
    "(after all, Open Science is going to look different in every field!)"
   ]
  },
  {
   "cell_type": "markdown",
   "id": "7a5f7ab5",
   "metadata": {
    "slideshow": {
     "slide_type": "slide"
    }
   },
   "source": [
    "In that year, we'd love for all of you to:"
   ]
  },
  {
   "cell_type": "markdown",
   "id": "58ad094a",
   "metadata": {
    "slideshow": {
     "slide_type": "fragment"
    }
   },
   "source": [
    "1: **Participate in monthly training workshops.** This can either be as a learner, or in the case of Carpentry workshops, as a helper or even an instructor! "
   ]
  },
  {
   "cell_type": "markdown",
   "id": "e4114779",
   "metadata": {
    "slideshow": {
     "slide_type": "fragment"
    }
   },
   "source": [
    "2: **Collaborate with and learn from each other.** We built this cohort to be extremely diverse, with everyone learning at least a little bit from everyone else. We're going to organize occasional \"lightning talks\" where everyone will have an opportunity to present on some aspect of Open Science they've found useful. Don't hesitate to share tips and tricks you learn along the way!"
   ]
  },
  {
   "cell_type": "markdown",
   "id": "fcc216c6",
   "metadata": {
    "slideshow": {
     "slide_type": "fragment"
    }
   },
   "source": [
    "3: **Incorporate what you learn into your research / teaching.** Our vision for graduate students is for their eventual theses to be fully reproducible by someone outside their immediate committee. Our vision for faculty is for their course material to be fully open sourced and accessible by interested students outside the university. The stipends will help with this, but it's up to YOU to determine how that's going to work for you!"
   ]
  },
  {
   "cell_type": "markdown",
   "id": "00a63b7c",
   "metadata": {
    "slideshow": {
     "slide_type": "fragment"
    }
   },
   "source": [
    "4: **Give us feedback.** We're going to be administering our own surveys and conducting interviews, but the more feedback we get from you, the better! (should we set up a wiki? a doc? a weekly rant fest?)"
   ]
  },
  {
   "cell_type": "markdown",
   "id": "58760b4e",
   "metadata": {
    "slideshow": {
     "slide_type": "slide"
    }
   },
   "source": [
    "### Funding"
   ]
  },
  {
   "cell_type": "markdown",
   "id": "acc1ab08",
   "metadata": {
    "slideshow": {
     "slide_type": "fragment"
    }
   },
   "source": [
    "**Both** faculty fellows and student fellows receive \\$2,500 each."
   ]
  },
  {
   "cell_type": "markdown",
   "id": "5fc33ada",
   "metadata": {
    "slideshow": {
     "slide_type": "-"
    }
   },
   "source": [
    "Exactly how this funding will work is still being finalized (but should know soon)."
   ]
  },
  {
   "cell_type": "markdown",
   "id": "6cead4cf",
   "metadata": {},
   "source": [
    "Ideally this money is spent on time and things related to making your research open and reproducible, and making your course materials reproducible and accessible."
   ]
  },
  {
   "cell_type": "markdown",
   "id": "1711bf45",
   "metadata": {
    "slideshow": {
     "slide_type": "slide"
    }
   },
   "source": [
    "### Questions?"
   ]
  },
  {
   "cell_type": "markdown",
   "id": "59fdcb11",
   "metadata": {
    "slideshow": {
     "slide_type": "fragment"
    }
   },
   "source": [
    "Keep in mind: there are a LOT more details to come, but we'd love to answer any questions you have!"
   ]
  },
  {
   "cell_type": "markdown",
   "id": "698af7de",
   "metadata": {
    "slideshow": {
     "slide_type": "-"
    }
   },
   "source": [
    "<img src=\"images/questions.jpg\" />"
   ]
  },
  {
   "cell_type": "markdown",
   "id": "272693f0",
   "metadata": {
    "slideshow": {
     "slide_type": "slide"
    }
   },
   "source": [
    "### Next Up:"
   ]
  },
  {
   "cell_type": "markdown",
   "id": "aaf9bcb0",
   "metadata": {},
   "source": [
    "Please introduce yourselves and your interest in and previous experience with Open Science! (5 min each)"
   ]
  }
 ],
 "metadata": {
  "celltoolbar": "Slideshow",
  "kernelspec": {
   "display_name": "Python 3 (ipykernel)",
   "language": "python",
   "name": "python3"
  },
  "language_info": {
   "codemirror_mode": {
    "name": "ipython",
    "version": 3
   },
   "file_extension": ".py",
   "mimetype": "text/x-python",
   "name": "python",
   "nbconvert_exporter": "python",
   "pygments_lexer": "ipython3",
   "version": "3.9.13"
  }
 },
 "nbformat": 4,
 "nbformat_minor": 5
}
